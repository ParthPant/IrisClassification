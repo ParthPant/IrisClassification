{
 "cells": [
  {
   "cell_type": "markdown",
   "metadata": {},
   "source": [
    "# IRIS Classification"
   ]
  },
  {
   "cell_type": "code",
   "execution_count": 378,
   "metadata": {},
   "outputs": [],
   "source": [
    "import numpy as np\n",
    "import pandas as pd\n",
    "from tqdm import tqdm\n",
    "import matplotlib.pyplot as plt\n",
    "%matplotlib inline"
   ]
  },
  {
   "cell_type": "code",
   "execution_count": 379,
   "metadata": {},
   "outputs": [],
   "source": [
    "data = pd.read_csv('IRIS.csv')\n",
    "data = data.sample(frac=1).reset_index(drop=True)\n",
    "all_x = data.to_numpy()[:,:4].astype('float32')\n",
    "all_y = data.to_numpy()[:,4]"
   ]
  },
  {
   "cell_type": "code",
   "execution_count": 380,
   "metadata": {},
   "outputs": [],
   "source": [
    "train_x = all_x[:125]\n",
    "train_y = all_y[:125]\n",
    "test_x = all_x[125:]\n",
    "test_y = all_y[125:]"
   ]
  },
  {
   "cell_type": "code",
   "execution_count": 381,
   "metadata": {},
   "outputs": [],
   "source": [
    "def integerEncode(Y):\n",
    "    class_to_int = dict((c,i) for i,c in enumerate(list(np.unique(Y))))\n",
    "    integer_encoded = [class_to_int[c_name] for c_name in Y]\n",
    "    return integer_encoded"
   ]
  },
  {
   "cell_type": "code",
   "execution_count": 382,
   "metadata": {
    "scrolled": false
   },
   "outputs": [],
   "source": [
    "def oneHotIt(Y,classes):\n",
    "    class_to_int = dict((c,i) for i,c in enumerate(classes))\n",
    "    integer_encoded = [class_to_int[c_name] for c_name in Y]\n",
    "    one_hot_encoded = list()\n",
    "    for value in integer_encoded:\n",
    "        col = [0 for _ in range(len(classes))]\n",
    "        col[value] = 1\n",
    "        one_hot_encoded.append(col)\n",
    "    return np.array(one_hot_encoded)"
   ]
  },
  {
   "cell_type": "code",
   "execution_count": 383,
   "metadata": {},
   "outputs": [],
   "source": [
    "def softmax(z):\n",
    "    z -= np.max(z)\n",
    "    sm = (np.exp(z).T / np.sum(np.exp(z),axis=1)).T\n",
    "    return sm"
   ]
  },
  {
   "cell_type": "code",
   "execution_count": 384,
   "metadata": {},
   "outputs": [],
   "source": [
    "def getProbsAndPred(someX,weights):\n",
    "    probs = softmax(np.dot(someX,weights));\n",
    "    preds = np.argmax(probs,axis=1)\n",
    "    return probs, preds"
   ]
  },
  {
   "cell_type": "code",
   "execution_count": 385,
   "metadata": {},
   "outputs": [],
   "source": [
    "def getLosses(x,y,w):\n",
    "    m = x.shape[0]\n",
    "    samples = x.shape[1]\n",
    "    y_mat = oneHotIt(y,np.unique(y))\n",
    "    scores = np.dot(x,w)\n",
    "    probs = softmax(scores)\n",
    "    loss = (-1/m)*np.sum(y_mat*np.log(probs))\n",
    "    grad = (-1/m)*np.dot(x.T,y_mat-probs)\n",
    "    return loss,grad"
   ]
  },
  {
   "cell_type": "code",
   "execution_count": 386,
   "metadata": {},
   "outputs": [
    {
     "name": "stderr",
     "output_type": "stream",
     "text": [
      "100%|████████████████████████████████████████████████████████████████████████████| 5000/5000 [00:03<00:00, 1547.11it/s]"
     ]
    },
    {
     "name": "stdout",
     "output_type": "stream",
     "text": [
      "0.1884214024617195\n"
     ]
    },
    {
     "name": "stderr",
     "output_type": "stream",
     "text": [
      "\n"
     ]
    }
   ],
   "source": [
    "w = np.zeros([all_x.shape[1],len(np.unique(all_y))])\n",
    "iterations = 5000\n",
    "learningRate = 1e-2\n",
    "losses = []\n",
    "for i in tqdm(range(0,iterations)):\n",
    "    loss,grad = getLosses(train_x,train_y,w)\n",
    "    w = w - learningRate*grad;\n",
    "    losses.append(loss)\n",
    "print(loss)"
   ]
  },
  {
   "cell_type": "code",
   "execution_count": 387,
   "metadata": {},
   "outputs": [
    {
     "data": {
      "text/plain": [
       "[<matplotlib.lines.Line2D at 0x19ff7146b48>]"
      ]
     },
     "execution_count": 387,
     "metadata": {},
     "output_type": "execute_result"
    },
    {
     "data": {
      "image/png": "[encoded data removed]",
      "text/plain": [
       "<Figure size 432x288 with 1 Axes>"
      ]
     },
     "metadata": {
      "needs_background": "light"
     },
     "output_type": "display_data"
    }
   ],
   "source": [
    "plt.plot(losses)"
   ]
  },
  {
   "cell_type": "code",
   "execution_count": 388,
   "metadata": {},
   "outputs": [],
   "source": [
    "def getAccuracy(x,y):\n",
    "    i_y = integerEncode(y)\n",
    "    probs,preds = getProbsAndPred(x,w)\n",
    "    accuracy = (sum(preds == i_y)/float(len(i_y)))*100\n",
    "    return accuracy"
   ]
  },
  {
   "cell_type": "code",
   "execution_count": 389,
   "metadata": {
    "scrolled": true
   },
   "outputs": [
    {
     "name": "stdout",
     "output_type": "stream",
     "text": [
      "Training Accuracy:  97.6\n",
      "Testing Accuracy:  96.0\n"
     ]
    }
   ],
   "source": [
    "print('Training Accuracy: ', getAccuracy(train_x,train_y))\n",
    "print('Testing Accuracy: ', getAccuracy(test_x,test_y))"
   ]
  }
 ],
 "metadata": {
  "kernelspec": {
   "display_name": "Python 3",
   "language": "python",
   "name": "python3"
  },
  "language_info": {
   "codemirror_mode": {
    "name": "ipython",
    "version": 3
   },
   "file_extension": ".py",
   "mimetype": "text/x-python",
   "name": "python",
   "nbconvert_exporter": "python",
   "pygments_lexer": "ipython3",
   "version": "3.7.6"
  }
 },
 "nbformat": 4,
 "nbformat_minor": 4
}
